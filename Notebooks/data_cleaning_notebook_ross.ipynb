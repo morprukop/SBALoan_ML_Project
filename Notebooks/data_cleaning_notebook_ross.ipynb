{
  "nbformat": 4,
  "nbformat_minor": 0,
  "metadata": {
    "colab": {
      "name": "data_cleaning_notebook_ross.ipynb",
      "provenance": [],
      "collapsed_sections": [],
      "include_colab_link": true
    },
    "kernelspec": {
      "name": "python3",
      "display_name": "Python 3"
    },
    "language_info": {
      "name": "python"
    }
  },
  "cells": [
    {
      "cell_type": "markdown",
      "metadata": {
        "id": "view-in-github",
        "colab_type": "text"
      },
      "source": [
        "<a href=\"https://colab.research.google.com/github/morprukop/SBALoan_ML_Project/blob/main/Notebooks/data_cleaning_notebook_ross.ipynb\" target=\"_parent\"><img src=\"https://colab.research.google.com/assets/colab-badge.svg\" alt=\"Open In Colab\"/></a>"
      ]
    },
    {
      "cell_type": "markdown",
      "source": [
        "# Project 2\n",
        "### Due: Feb 22"
      ],
      "metadata": {
        "id": "9dbgRQ0aKMTs"
      }
    },
    {
      "cell_type": "markdown",
      "source": [
        "Pick one of the datasets listed below. Then, do the following:\n",
        "- Load it into a notebook using Pandas\n",
        "- Find anything in it that needs to be cleaned. This could include rows with missing data, columns with data stored as the wrong type, dates that are stored as strings instead of dates, and more.\n",
        "- Create the following items:\n",
        "    - **A presentation:** Your presentation should be approximately 10 minutes in length, and cover the main topics. You can save code and nitty-gritty details for your notebook.\n",
        "    - **A Jupyter notebook:** The notebook should include a mixture of Markdown cells describing your work, and code. There should be no scratch work, everything should be easy to read.\n",
        "    - **An article on your LinkedIn page:** This should be comprehensible by a general, non-data science audience. Include graphs to back up your results. Include a link to your Github repository for this project.\n",
        "- Each person on the team should create a new Github repository. It should have the following:\n",
        "    - A nice title. Don't call it \"Project 2\". Make it something interesting so that someone not in this class would want to see what you did.\n",
        "    - A README file explaining what you're doing. Make it look nice, use Markdown.\n",
        "    - A folder titled `data` for your data. In this folder you should put the data. Also, once you've cleaned your data, include another file `cleaned_data.csv` which is the cleaned data.\n",
        "    - A folder titled `notebooks` for your notebook. Give your notebook a nice filename.\n",
        "    - A folder titled `presentations` for your presentation. Give your presentation a nice filename.\n",
        "    - A folder titled `articles` for your LinkedIn article. \n",
        "- Fill out the [proposal template](proposal_template.ipynb) and email it to psavala@stedwards.edu. This is due on Monday, Sep 21 by midnight."
      ],
      "metadata": {
        "id": "xe87xVinKHA6"
      }
    },
    {
      "cell_type": "markdown",
      "source": [
        "## Datasets:\n",
        "\n",
        "Pick TWO questions from each of the bullet points below and address them.\n",
        " \n",
        "- **Small business loans:** Use the [Small Business Administration (SBA) dataset](https://www.kaggle.com/mirbektoktogaraev/should-this-loan-be-approved-or-denied) to address the following questions:\n",
        "    - What factors tend to cause a loan to be defaulted on?\n",
        "    - What factors affect how much the loan is for?\n",
        "    - Build a model to predict which approved loan applications will default on their loan.\n",
        "    - _Target audience:_ A consultant who helps small businesses grow. In particular, you help guide them from initial idea until the point where they can qualify for a small business loan and be successful enough to not default on it."
      ],
      "metadata": {
        "id": "aiGaBEmaKk7L"
      }
    },
    {
      "cell_type": "markdown",
      "source": [
        "# Data Loading & Imports"
      ],
      "metadata": {
        "id": "XLXchnPsKsEC"
      }
    },
    {
      "cell_type": "code",
      "execution_count": null,
      "metadata": {
        "colab": {
          "base_uri": "https://localhost:8080/"
        },
        "id": "sVF96VNeEpvq",
        "outputId": "2d7a8fde-2190-40c2-93eb-1999883804ab"
      },
      "outputs": [
        {
          "output_type": "stream",
          "name": "stdout",
          "text": [
            "Drive already mounted at /content/drive; to attempt to forcibly remount, call drive.mount(\"/content/drive\", force_remount=True).\n"
          ]
        }
      ],
      "source": [
        "import pandas as pd\n",
        "from matplotlib import pyplot as plt\n",
        "import numpy as np\n",
        "from sklearn.linear_model import LinearRegression \n",
        "from google.colab import drive\n",
        "\n",
        "drive.mount('/content/drive')"
      ]
    },
    {
      "cell_type": "code",
      "source": [
        "df = pd.read_csv(\"/content/drive/Shareddrives/Loan_ Project2/Data/SBAnational.csv\")"
      ],
      "metadata": {
        "colab": {
          "base_uri": "https://localhost:8080/"
        },
        "id": "WadcijYmLoFu",
        "outputId": "36926064-5946-48d6-872b-dff06356cde1"
      },
      "execution_count": null,
      "outputs": [
        {
          "output_type": "stream",
          "name": "stderr",
          "text": [
            "/usr/local/lib/python3.7/dist-packages/IPython/core/interactiveshell.py:2882: DtypeWarning: Columns (9) have mixed types.Specify dtype option on import or set low_memory=False.\n",
            "  exec(code_obj, self.user_global_ns, self.user_ns)\n"
          ]
        }
      ]
    },
    {
      "cell_type": "markdown",
      "source": [
        "# First Look at The Data"
      ],
      "metadata": {
        "id": "YH0lyMtSMCqa"
      }
    },
    {
      "cell_type": "code",
      "source": [
        "df.head()"
      ],
      "metadata": {
        "id": "VwRAaeXLMHPO",
        "colab": {
          "base_uri": "https://localhost:8080/",
          "height": 514
        },
        "outputId": "8715c733-1c70-4cfb-e953-cebc4bf173fe"
      },
      "execution_count": null,
      "outputs": [
        {
          "output_type": "execute_result",
          "data": {
            "text/html": [
              "\n",
              "  <div id=\"df-1473e7b6-3289-4a03-8371-4b966248fa1c\">\n",
              "    <div class=\"colab-df-container\">\n",
              "      <div>\n",
              "<style scoped>\n",
              "    .dataframe tbody tr th:only-of-type {\n",
              "        vertical-align: middle;\n",
              "    }\n",
              "\n",
              "    .dataframe tbody tr th {\n",
              "        vertical-align: top;\n",
              "    }\n",
              "\n",
              "    .dataframe thead th {\n",
              "        text-align: right;\n",
              "    }\n",
              "</style>\n",
              "<table border=\"1\" class=\"dataframe\">\n",
              "  <thead>\n",
              "    <tr style=\"text-align: right;\">\n",
              "      <th></th>\n",
              "      <th>LoanNr_ChkDgt</th>\n",
              "      <th>Name</th>\n",
              "      <th>City</th>\n",
              "      <th>State</th>\n",
              "      <th>Zip</th>\n",
              "      <th>Bank</th>\n",
              "      <th>BankState</th>\n",
              "      <th>NAICS</th>\n",
              "      <th>ApprovalDate</th>\n",
              "      <th>ApprovalFY</th>\n",
              "      <th>Term</th>\n",
              "      <th>NoEmp</th>\n",
              "      <th>NewExist</th>\n",
              "      <th>CreateJob</th>\n",
              "      <th>RetainedJob</th>\n",
              "      <th>FranchiseCode</th>\n",
              "      <th>UrbanRural</th>\n",
              "      <th>RevLineCr</th>\n",
              "      <th>LowDoc</th>\n",
              "      <th>ChgOffDate</th>\n",
              "      <th>DisbursementDate</th>\n",
              "      <th>DisbursementGross</th>\n",
              "      <th>BalanceGross</th>\n",
              "      <th>MIS_Status</th>\n",
              "      <th>ChgOffPrinGr</th>\n",
              "      <th>GrAppv</th>\n",
              "      <th>SBA_Appv</th>\n",
              "    </tr>\n",
              "  </thead>\n",
              "  <tbody>\n",
              "    <tr>\n",
              "      <th>0</th>\n",
              "      <td>1000014003</td>\n",
              "      <td>ABC HOBBYCRAFT</td>\n",
              "      <td>EVANSVILLE</td>\n",
              "      <td>IN</td>\n",
              "      <td>47711</td>\n",
              "      <td>FIFTH THIRD BANK</td>\n",
              "      <td>OH</td>\n",
              "      <td>451120</td>\n",
              "      <td>28-Feb-97</td>\n",
              "      <td>1997</td>\n",
              "      <td>84</td>\n",
              "      <td>4</td>\n",
              "      <td>2.0</td>\n",
              "      <td>0</td>\n",
              "      <td>0</td>\n",
              "      <td>1</td>\n",
              "      <td>0</td>\n",
              "      <td>N</td>\n",
              "      <td>Y</td>\n",
              "      <td>NaN</td>\n",
              "      <td>28-Feb-99</td>\n",
              "      <td>$60,000.00</td>\n",
              "      <td>$0.00</td>\n",
              "      <td>P I F</td>\n",
              "      <td>$0.00</td>\n",
              "      <td>$60,000.00</td>\n",
              "      <td>$48,000.00</td>\n",
              "    </tr>\n",
              "    <tr>\n",
              "      <th>1</th>\n",
              "      <td>1000024006</td>\n",
              "      <td>LANDMARK BAR &amp; GRILLE (THE)</td>\n",
              "      <td>NEW PARIS</td>\n",
              "      <td>IN</td>\n",
              "      <td>46526</td>\n",
              "      <td>1ST SOURCE BANK</td>\n",
              "      <td>IN</td>\n",
              "      <td>722410</td>\n",
              "      <td>28-Feb-97</td>\n",
              "      <td>1997</td>\n",
              "      <td>60</td>\n",
              "      <td>2</td>\n",
              "      <td>2.0</td>\n",
              "      <td>0</td>\n",
              "      <td>0</td>\n",
              "      <td>1</td>\n",
              "      <td>0</td>\n",
              "      <td>N</td>\n",
              "      <td>Y</td>\n",
              "      <td>NaN</td>\n",
              "      <td>31-May-97</td>\n",
              "      <td>$40,000.00</td>\n",
              "      <td>$0.00</td>\n",
              "      <td>P I F</td>\n",
              "      <td>$0.00</td>\n",
              "      <td>$40,000.00</td>\n",
              "      <td>$32,000.00</td>\n",
              "    </tr>\n",
              "    <tr>\n",
              "      <th>2</th>\n",
              "      <td>1000034009</td>\n",
              "      <td>WHITLOCK DDS, TODD M.</td>\n",
              "      <td>BLOOMINGTON</td>\n",
              "      <td>IN</td>\n",
              "      <td>47401</td>\n",
              "      <td>GRANT COUNTY STATE BANK</td>\n",
              "      <td>IN</td>\n",
              "      <td>621210</td>\n",
              "      <td>28-Feb-97</td>\n",
              "      <td>1997</td>\n",
              "      <td>180</td>\n",
              "      <td>7</td>\n",
              "      <td>1.0</td>\n",
              "      <td>0</td>\n",
              "      <td>0</td>\n",
              "      <td>1</td>\n",
              "      <td>0</td>\n",
              "      <td>N</td>\n",
              "      <td>N</td>\n",
              "      <td>NaN</td>\n",
              "      <td>31-Dec-97</td>\n",
              "      <td>$287,000.00</td>\n",
              "      <td>$0.00</td>\n",
              "      <td>P I F</td>\n",
              "      <td>$0.00</td>\n",
              "      <td>$287,000.00</td>\n",
              "      <td>$215,250.00</td>\n",
              "    </tr>\n",
              "    <tr>\n",
              "      <th>3</th>\n",
              "      <td>1000044001</td>\n",
              "      <td>BIG BUCKS PAWN &amp; JEWELRY, LLC</td>\n",
              "      <td>BROKEN ARROW</td>\n",
              "      <td>OK</td>\n",
              "      <td>74012</td>\n",
              "      <td>1ST NATL BK &amp; TR CO OF BROKEN</td>\n",
              "      <td>OK</td>\n",
              "      <td>0</td>\n",
              "      <td>28-Feb-97</td>\n",
              "      <td>1997</td>\n",
              "      <td>60</td>\n",
              "      <td>2</td>\n",
              "      <td>1.0</td>\n",
              "      <td>0</td>\n",
              "      <td>0</td>\n",
              "      <td>1</td>\n",
              "      <td>0</td>\n",
              "      <td>N</td>\n",
              "      <td>Y</td>\n",
              "      <td>NaN</td>\n",
              "      <td>30-Jun-97</td>\n",
              "      <td>$35,000.00</td>\n",
              "      <td>$0.00</td>\n",
              "      <td>P I F</td>\n",
              "      <td>$0.00</td>\n",
              "      <td>$35,000.00</td>\n",
              "      <td>$28,000.00</td>\n",
              "    </tr>\n",
              "    <tr>\n",
              "      <th>4</th>\n",
              "      <td>1000054004</td>\n",
              "      <td>ANASTASIA CONFECTIONS, INC.</td>\n",
              "      <td>ORLANDO</td>\n",
              "      <td>FL</td>\n",
              "      <td>32801</td>\n",
              "      <td>FLORIDA BUS. DEVEL CORP</td>\n",
              "      <td>FL</td>\n",
              "      <td>0</td>\n",
              "      <td>28-Feb-97</td>\n",
              "      <td>1997</td>\n",
              "      <td>240</td>\n",
              "      <td>14</td>\n",
              "      <td>1.0</td>\n",
              "      <td>7</td>\n",
              "      <td>7</td>\n",
              "      <td>1</td>\n",
              "      <td>0</td>\n",
              "      <td>N</td>\n",
              "      <td>N</td>\n",
              "      <td>NaN</td>\n",
              "      <td>14-May-97</td>\n",
              "      <td>$229,000.00</td>\n",
              "      <td>$0.00</td>\n",
              "      <td>P I F</td>\n",
              "      <td>$0.00</td>\n",
              "      <td>$229,000.00</td>\n",
              "      <td>$229,000.00</td>\n",
              "    </tr>\n",
              "  </tbody>\n",
              "</table>\n",
              "</div>\n",
              "      <button class=\"colab-df-convert\" onclick=\"convertToInteractive('df-1473e7b6-3289-4a03-8371-4b966248fa1c')\"\n",
              "              title=\"Convert this dataframe to an interactive table.\"\n",
              "              style=\"display:none;\">\n",
              "        \n",
              "  <svg xmlns=\"http://www.w3.org/2000/svg\" height=\"24px\"viewBox=\"0 0 24 24\"\n",
              "       width=\"24px\">\n",
              "    <path d=\"M0 0h24v24H0V0z\" fill=\"none\"/>\n",
              "    <path d=\"M18.56 5.44l.94 2.06.94-2.06 2.06-.94-2.06-.94-.94-2.06-.94 2.06-2.06.94zm-11 1L8.5 8.5l.94-2.06 2.06-.94-2.06-.94L8.5 2.5l-.94 2.06-2.06.94zm10 10l.94 2.06.94-2.06 2.06-.94-2.06-.94-.94-2.06-.94 2.06-2.06.94z\"/><path d=\"M17.41 7.96l-1.37-1.37c-.4-.4-.92-.59-1.43-.59-.52 0-1.04.2-1.43.59L10.3 9.45l-7.72 7.72c-.78.78-.78 2.05 0 2.83L4 21.41c.39.39.9.59 1.41.59.51 0 1.02-.2 1.41-.59l7.78-7.78 2.81-2.81c.8-.78.8-2.07 0-2.86zM5.41 20L4 18.59l7.72-7.72 1.47 1.35L5.41 20z\"/>\n",
              "  </svg>\n",
              "      </button>\n",
              "      \n",
              "  <style>\n",
              "    .colab-df-container {\n",
              "      display:flex;\n",
              "      flex-wrap:wrap;\n",
              "      gap: 12px;\n",
              "    }\n",
              "\n",
              "    .colab-df-convert {\n",
              "      background-color: #E8F0FE;\n",
              "      border: none;\n",
              "      border-radius: 50%;\n",
              "      cursor: pointer;\n",
              "      display: none;\n",
              "      fill: #1967D2;\n",
              "      height: 32px;\n",
              "      padding: 0 0 0 0;\n",
              "      width: 32px;\n",
              "    }\n",
              "\n",
              "    .colab-df-convert:hover {\n",
              "      background-color: #E2EBFA;\n",
              "      box-shadow: 0px 1px 2px rgba(60, 64, 67, 0.3), 0px 1px 3px 1px rgba(60, 64, 67, 0.15);\n",
              "      fill: #174EA6;\n",
              "    }\n",
              "\n",
              "    [theme=dark] .colab-df-convert {\n",
              "      background-color: #3B4455;\n",
              "      fill: #D2E3FC;\n",
              "    }\n",
              "\n",
              "    [theme=dark] .colab-df-convert:hover {\n",
              "      background-color: #434B5C;\n",
              "      box-shadow: 0px 1px 3px 1px rgba(0, 0, 0, 0.15);\n",
              "      filter: drop-shadow(0px 1px 2px rgba(0, 0, 0, 0.3));\n",
              "      fill: #FFFFFF;\n",
              "    }\n",
              "  </style>\n",
              "\n",
              "      <script>\n",
              "        const buttonEl =\n",
              "          document.querySelector('#df-1473e7b6-3289-4a03-8371-4b966248fa1c button.colab-df-convert');\n",
              "        buttonEl.style.display =\n",
              "          google.colab.kernel.accessAllowed ? 'block' : 'none';\n",
              "\n",
              "        async function convertToInteractive(key) {\n",
              "          const element = document.querySelector('#df-1473e7b6-3289-4a03-8371-4b966248fa1c');\n",
              "          const dataTable =\n",
              "            await google.colab.kernel.invokeFunction('convertToInteractive',\n",
              "                                                     [key], {});\n",
              "          if (!dataTable) return;\n",
              "\n",
              "          const docLinkHtml = 'Like what you see? Visit the ' +\n",
              "            '<a target=\"_blank\" href=https://colab.research.google.com/notebooks/data_table.ipynb>data table notebook</a>'\n",
              "            + ' to learn more about interactive tables.';\n",
              "          element.innerHTML = '';\n",
              "          dataTable['output_type'] = 'display_data';\n",
              "          await google.colab.output.renderOutput(dataTable, element);\n",
              "          const docLink = document.createElement('div');\n",
              "          docLink.innerHTML = docLinkHtml;\n",
              "          element.appendChild(docLink);\n",
              "        }\n",
              "      </script>\n",
              "    </div>\n",
              "  </div>\n",
              "  "
            ],
            "text/plain": [
              "   LoanNr_ChkDgt                           Name  ...        GrAppv      SBA_Appv\n",
              "0     1000014003                 ABC HOBBYCRAFT  ...   $60,000.00    $48,000.00 \n",
              "1     1000024006    LANDMARK BAR & GRILLE (THE)  ...   $40,000.00    $32,000.00 \n",
              "2     1000034009          WHITLOCK DDS, TODD M.  ...  $287,000.00   $215,250.00 \n",
              "3     1000044001  BIG BUCKS PAWN & JEWELRY, LLC  ...   $35,000.00    $28,000.00 \n",
              "4     1000054004    ANASTASIA CONFECTIONS, INC.  ...  $229,000.00   $229,000.00 \n",
              "\n",
              "[5 rows x 27 columns]"
            ]
          },
          "metadata": {},
          "execution_count": 3
        }
      ]
    },
    {
      "cell_type": "code",
      "source": [
        "df.info()"
      ],
      "metadata": {
        "id": "TlZTaOkGMJZt",
        "colab": {
          "base_uri": "https://localhost:8080/"
        },
        "outputId": "a4fdb165-66ac-44be-aa55-76346e1a1abe"
      },
      "execution_count": null,
      "outputs": [
        {
          "output_type": "stream",
          "name": "stdout",
          "text": [
            "<class 'pandas.core.frame.DataFrame'>\n",
            "RangeIndex: 899164 entries, 0 to 899163\n",
            "Data columns (total 27 columns):\n",
            " #   Column             Non-Null Count   Dtype  \n",
            "---  ------             --------------   -----  \n",
            " 0   LoanNr_ChkDgt      899164 non-null  int64  \n",
            " 1   Name               899150 non-null  object \n",
            " 2   City               899134 non-null  object \n",
            " 3   State              899150 non-null  object \n",
            " 4   Zip                899164 non-null  int64  \n",
            " 5   Bank               897605 non-null  object \n",
            " 6   BankState          897598 non-null  object \n",
            " 7   NAICS              899164 non-null  int64  \n",
            " 8   ApprovalDate       899164 non-null  object \n",
            " 9   ApprovalFY         899164 non-null  object \n",
            " 10  Term               899164 non-null  int64  \n",
            " 11  NoEmp              899164 non-null  int64  \n",
            " 12  NewExist           899028 non-null  float64\n",
            " 13  CreateJob          899164 non-null  int64  \n",
            " 14  RetainedJob        899164 non-null  int64  \n",
            " 15  FranchiseCode      899164 non-null  int64  \n",
            " 16  UrbanRural         899164 non-null  int64  \n",
            " 17  RevLineCr          894636 non-null  object \n",
            " 18  LowDoc             896582 non-null  object \n",
            " 19  ChgOffDate         162699 non-null  object \n",
            " 20  DisbursementDate   896796 non-null  object \n",
            " 21  DisbursementGross  899164 non-null  object \n",
            " 22  BalanceGross       899164 non-null  object \n",
            " 23  MIS_Status         897167 non-null  object \n",
            " 24  ChgOffPrinGr       899164 non-null  object \n",
            " 25  GrAppv             899164 non-null  object \n",
            " 26  SBA_Appv           899164 non-null  object \n",
            "dtypes: float64(1), int64(9), object(17)\n",
            "memory usage: 185.2+ MB\n"
          ]
        }
      ]
    },
    {
      "cell_type": "code",
      "source": [
        "df.isna().sum()"
      ],
      "metadata": {
        "id": "3szLoLjamLKM",
        "colab": {
          "base_uri": "https://localhost:8080/"
        },
        "outputId": "3cc6420b-1aa4-46e1-e705-80fa614a606d"
      },
      "execution_count": null,
      "outputs": [
        {
          "output_type": "execute_result",
          "data": {
            "text/plain": [
              "LoanNr_ChkDgt             0\n",
              "Name                     14\n",
              "City                     30\n",
              "State                    14\n",
              "Zip                       0\n",
              "Bank                   1559\n",
              "BankState              1566\n",
              "NAICS                     0\n",
              "ApprovalDate              0\n",
              "ApprovalFY                0\n",
              "Term                      0\n",
              "NoEmp                     0\n",
              "NewExist                136\n",
              "CreateJob                 0\n",
              "RetainedJob               0\n",
              "FranchiseCode             0\n",
              "UrbanRural                0\n",
              "RevLineCr              4528\n",
              "LowDoc                 2582\n",
              "ChgOffDate           736465\n",
              "DisbursementDate       2368\n",
              "DisbursementGross         0\n",
              "BalanceGross              0\n",
              "MIS_Status             1997\n",
              "ChgOffPrinGr              0\n",
              "GrAppv                    0\n",
              "SBA_Appv                  0\n",
              "dtype: int64"
            ]
          },
          "metadata": {},
          "execution_count": 5
        }
      ]
    },
    {
      "cell_type": "markdown",
      "source": [
        "# Data Cleaning & Formatting"
      ],
      "metadata": {
        "id": "aN2PeJfyZKXB"
      }
    },
    {
      "cell_type": "markdown",
      "source": [
        "Renaming Columns"
      ],
      "metadata": {
        "id": "c5cxc_hHd2kL"
      }
    },
    {
      "cell_type": "code",
      "source": [
        "df.columns = [\"loan_id\", \"name\", \"city\", \"state\", \"zip\", \"bank\", \"bank_state\", \"naics\", \"date_appv\", \"appv_fy\", \"term\", \"num_emp\", \"is_new\", \"num_jobs\", \"num_retain\", \"franch\", \"urban_type\", \"is_revl\", \"is_ldoc\", \"date_dflt\", \"date_disb\", \"amt_disb\", \"amt_outst\", \"mis\", \"amt_chg_off\", \"amt_gr_appv\", \"amt_sba\"]"
      ],
      "metadata": {
        "id": "ToarXk9FZO8p"
      },
      "execution_count": null,
      "outputs": []
    },
    {
      "cell_type": "markdown",
      "source": [
        "Dropping N/A Values (Except for \"date_dflt\")"
      ],
      "metadata": {
        "id": "2JwjV0LOuoXM"
      }
    },
    {
      "cell_type": "code",
      "source": [
        "df = df.dropna(subset=[\"name\", \"city\", \"state\", \"bank\", \"bank_state\", \"is_new\", \"is_revl\", \"is_ldoc\", \"date_disb\", \"mis\"])"
      ],
      "metadata": {
        "id": "NE3OE5UIm7YX"
      },
      "execution_count": null,
      "outputs": []
    },
    {
      "cell_type": "markdown",
      "source": [
        "Cleaning columns in preparation for conversion to proper data types"
      ],
      "metadata": {
        "id": "VroR_7su3M_A"
      }
    },
    {
      "cell_type": "code",
      "source": [
        "pd.options.mode.chained_assignment = None"
      ],
      "metadata": {
        "id": "kBNbIyhe4bK-"
      },
      "execution_count": null,
      "outputs": []
    },
    {
      "cell_type": "code",
      "source": [
        "df[\"date_appv\"] = pd.to_datetime(df[\"date_appv\"], format=\"%d-%b-%y\")\n",
        "df[\"appv_fy\"] = df[\"appv_fy\"].astype(str).str.replace(\"[^0-9]\", \"\", regex=True).astype(int)\n",
        "df[\"is_new\"] = df[df[\"is_new\"].astype(int) > 0][\"is_new\"].map({2: True, 1: False})  # bool\n",
        "df[\"urban_type\"] = df[\"urban_type\"] - 1\n",
        "df[\"is_revl\"] = df[df[\"is_revl\"].astype(str).str.replace(\"[^NY]\", \"\", regex=True) != \"\"][\"is_revl\"].map({\"Y\": 1, \"N\": 0})\n",
        "df[\"is_ldoc\"] = df[df[\"is_ldoc\"].astype(str).str.replace(\"[^NY]\", \"\", regex=True) != \"\"][\"is_ldoc\"].map({\"Y\": True, \"N\": False})  # bool\n",
        "df[\"date_dflt\"] = pd.to_datetime(df[\"date_dflt\"], format=\"%d-%b-%y\")\n",
        "df[\"date_disb\"] = pd.to_datetime(df[\"date_disb\"], format=\"%d-%b-%y\")\n",
        "df[\"amt_disb\"] = df[\"amt_disb\"].astype(str).str.replace(\"[^0-9]\", \"\", regex=True).astype(int)\n",
        "df[\"amt_outst\"] = df[\"amt_outst\"].astype(str).str.replace(\"[^0-9]\", \"\", regex=True).astype(int)\n",
        "df[\"mis\"] = df[\"mis\"].map({\"P I F\": True, \"CHGOFF\": False})  # bool\n",
        "df[\"amt_chg_off\"] = df[\"amt_chg_off\"].astype(str).str.replace(\"[^0-9]\", \"\", regex=True).astype(int)\n",
        "df[\"amt_gr_appv\"] = df[\"amt_gr_appv\"].astype(str).str.replace(\"[^0-9]\", \"\", regex=True).astype(int)\n",
        "df[\"amt_sba\"] = df[\"amt_sba\"].astype(str).str.replace(\"[^0-9]\", \"\", regex=True).astype(int)"
      ],
      "metadata": {
        "id": "InbLNfoYdt8N"
      },
      "execution_count": null,
      "outputs": []
    },
    {
      "cell_type": "markdown",
      "source": [
        "Dropping N/A values post-dtype cleaning"
      ],
      "metadata": {
        "id": "lJnnhIHlFa3F"
      }
    },
    {
      "cell_type": "code",
      "source": [
        "df = df.dropna(subset=[\"is_new\", \"is_ldoc\"])"
      ],
      "metadata": {
        "id": "Msd1LJAwFkCa"
      },
      "execution_count": null,
      "outputs": []
    },
    {
      "cell_type": "markdown",
      "source": [
        "Fill certain N/A values"
      ],
      "metadata": {
        "id": "iUrxzidznQNo"
      }
    },
    {
      "cell_type": "code",
      "source": [
        "df = df.fillna({\"is_revl\": -1})"
      ],
      "metadata": {
        "id": "XtnKy_kWnvBG"
      },
      "execution_count": null,
      "outputs": []
    },
    {
      "cell_type": "markdown",
      "source": [
        "Converting remaining columns to proper data types after cleaning"
      ],
      "metadata": {
        "id": "TbHQa6-Dj146"
      }
    },
    {
      "cell_type": "code",
      "source": [
        "df[[\"is_new\", \"is_ldoc\", \"mis\"]] = df[[\"is_new\", \"is_ldoc\", \"mis\"]].astype(bool)\n",
        "df[\"is_revl\"] = df[\"is_revl\"].astype(int)"
      ],
      "metadata": {
        "id": "oe0sQ1kEgswt"
      },
      "execution_count": null,
      "outputs": []
    },
    {
      "cell_type": "markdown",
      "source": [
        "Re-Indexing dataframe"
      ],
      "metadata": {
        "id": "lxEvDTaOJG6d"
      }
    },
    {
      "cell_type": "code",
      "source": [
        "df.reset_index(level=0, inplace=True)\n",
        "del df[\"index\"]"
      ],
      "metadata": {
        "id": "3ibhLS7fJGmn"
      },
      "execution_count": null,
      "outputs": []
    },
    {
      "cell_type": "markdown",
      "source": [
        "# Looking at Data After Cleaning"
      ],
      "metadata": {
        "id": "h1YD0GbWeKqL"
      }
    },
    {
      "cell_type": "markdown",
      "source": [
        "### Data description\n",
        "\n",
        "This dataset is from the U.S. Small Business Administration (SBA)\n",
        "\n",
        "Each row represents one loan application from a borrower and each column represents:\n",
        "- **loan_id**: Identifier – Primary key\n",
        "- **name**: Name of the borrower\n",
        "- **city**: City the borrower is from\n",
        "- **state**: State the borrower is from\n",
        "- **zip**: Zip code of the borrower\n",
        "- **bank**: Bank the borrower is loaning from\n",
        "- **bank_state**: State the bank is in\n",
        "- **naics**: North American Industry Classification System code\n",
        "- **date_appv**: Date SBA commitment issued\n",
        "- **appv_fy**: Fiscal year of commitment\n",
        "- **term**: Loan term in months\n",
        "- **num_emp**: Number of business employees\n",
        "- **is_new**: Is the loan for a new or existing business (True = new, False = existing)\n",
        "- **num_jobs**: Number of jobs created\n",
        "- **num_retain**: Number of jobs retained\n",
        "- **franch**: Franchise code (if 0 or 1, then it's not a franchise)\n",
        "- **urban_type**: Is the business urban or rural (1 = urban, 2 = rural, -1 = undefined)\n",
        "- **is_revl**: Revolving line of credit (1 = yes, 0 = no, -1 = undefined)\n",
        "- **is_ldoc**: Part of the LowDoc Loan Program (True = yes, False = no)\n",
        "- **date_dflt**: The date when a loan is declared to be in default\n",
        "- **date_disb**: Disbursement date\n",
        "- **amt_disb**: Amount disbursed in pennies\n",
        "- **amt_outst**: Gross amount outstanding in pennies\n",
        "- **mis**: MIS status (True = paid in full, False = loan status charged off)\n",
        "- **amt_chg_off**: Charged-off amount in pennies\n",
        "- **amt_gr_appv**: Gross amount of loan approved by bank in pennies\n",
        "- **amt_sba**: SBA’s guaranteed amount of approved loan in pennies"
      ],
      "metadata": {
        "id": "_R3kO6_QeRmA"
      }
    },
    {
      "cell_type": "code",
      "source": [
        "df.head()"
      ],
      "metadata": {
        "id": "w0R5-9jAeRPL",
        "colab": {
          "base_uri": "https://localhost:8080/",
          "height": 514
        },
        "outputId": "3012859c-283e-4a9d-a933-41be2cf68412"
      },
      "execution_count": null,
      "outputs": [
        {
          "output_type": "execute_result",
          "data": {
            "text/html": [
              "\n",
              "  <div id=\"df-5a0a2a3e-dd03-4ea0-a0d9-3fee50a9f263\">\n",
              "    <div class=\"colab-df-container\">\n",
              "      <div>\n",
              "<style scoped>\n",
              "    .dataframe tbody tr th:only-of-type {\n",
              "        vertical-align: middle;\n",
              "    }\n",
              "\n",
              "    .dataframe tbody tr th {\n",
              "        vertical-align: top;\n",
              "    }\n",
              "\n",
              "    .dataframe thead th {\n",
              "        text-align: right;\n",
              "    }\n",
              "</style>\n",
              "<table border=\"1\" class=\"dataframe\">\n",
              "  <thead>\n",
              "    <tr style=\"text-align: right;\">\n",
              "      <th></th>\n",
              "      <th>loan_id</th>\n",
              "      <th>name</th>\n",
              "      <th>city</th>\n",
              "      <th>state</th>\n",
              "      <th>zip</th>\n",
              "      <th>bank</th>\n",
              "      <th>bank_state</th>\n",
              "      <th>naics</th>\n",
              "      <th>date_appv</th>\n",
              "      <th>appv_fy</th>\n",
              "      <th>term</th>\n",
              "      <th>num_emp</th>\n",
              "      <th>is_new</th>\n",
              "      <th>num_jobs</th>\n",
              "      <th>num_retain</th>\n",
              "      <th>franch</th>\n",
              "      <th>urban_type</th>\n",
              "      <th>is_revl</th>\n",
              "      <th>is_ldoc</th>\n",
              "      <th>date_dflt</th>\n",
              "      <th>date_disb</th>\n",
              "      <th>amt_disb</th>\n",
              "      <th>amt_outst</th>\n",
              "      <th>mis</th>\n",
              "      <th>amt_chg_off</th>\n",
              "      <th>amt_gr_appv</th>\n",
              "      <th>amt_sba</th>\n",
              "    </tr>\n",
              "  </thead>\n",
              "  <tbody>\n",
              "    <tr>\n",
              "      <th>0</th>\n",
              "      <td>1000014003</td>\n",
              "      <td>ABC HOBBYCRAFT</td>\n",
              "      <td>EVANSVILLE</td>\n",
              "      <td>IN</td>\n",
              "      <td>47711</td>\n",
              "      <td>FIFTH THIRD BANK</td>\n",
              "      <td>OH</td>\n",
              "      <td>451120</td>\n",
              "      <td>1997-02-28</td>\n",
              "      <td>1997</td>\n",
              "      <td>84</td>\n",
              "      <td>4</td>\n",
              "      <td>True</td>\n",
              "      <td>0</td>\n",
              "      <td>0</td>\n",
              "      <td>1</td>\n",
              "      <td>-1</td>\n",
              "      <td>0</td>\n",
              "      <td>True</td>\n",
              "      <td>NaT</td>\n",
              "      <td>1999-02-28</td>\n",
              "      <td>6000000</td>\n",
              "      <td>0</td>\n",
              "      <td>True</td>\n",
              "      <td>0</td>\n",
              "      <td>6000000</td>\n",
              "      <td>4800000</td>\n",
              "    </tr>\n",
              "    <tr>\n",
              "      <th>1</th>\n",
              "      <td>1000024006</td>\n",
              "      <td>LANDMARK BAR &amp; GRILLE (THE)</td>\n",
              "      <td>NEW PARIS</td>\n",
              "      <td>IN</td>\n",
              "      <td>46526</td>\n",
              "      <td>1ST SOURCE BANK</td>\n",
              "      <td>IN</td>\n",
              "      <td>722410</td>\n",
              "      <td>1997-02-28</td>\n",
              "      <td>1997</td>\n",
              "      <td>60</td>\n",
              "      <td>2</td>\n",
              "      <td>True</td>\n",
              "      <td>0</td>\n",
              "      <td>0</td>\n",
              "      <td>1</td>\n",
              "      <td>-1</td>\n",
              "      <td>0</td>\n",
              "      <td>True</td>\n",
              "      <td>NaT</td>\n",
              "      <td>1997-05-31</td>\n",
              "      <td>4000000</td>\n",
              "      <td>0</td>\n",
              "      <td>True</td>\n",
              "      <td>0</td>\n",
              "      <td>4000000</td>\n",
              "      <td>3200000</td>\n",
              "    </tr>\n",
              "    <tr>\n",
              "      <th>2</th>\n",
              "      <td>1000034009</td>\n",
              "      <td>WHITLOCK DDS, TODD M.</td>\n",
              "      <td>BLOOMINGTON</td>\n",
              "      <td>IN</td>\n",
              "      <td>47401</td>\n",
              "      <td>GRANT COUNTY STATE BANK</td>\n",
              "      <td>IN</td>\n",
              "      <td>621210</td>\n",
              "      <td>1997-02-28</td>\n",
              "      <td>1997</td>\n",
              "      <td>180</td>\n",
              "      <td>7</td>\n",
              "      <td>False</td>\n",
              "      <td>0</td>\n",
              "      <td>0</td>\n",
              "      <td>1</td>\n",
              "      <td>-1</td>\n",
              "      <td>0</td>\n",
              "      <td>False</td>\n",
              "      <td>NaT</td>\n",
              "      <td>1997-12-31</td>\n",
              "      <td>28700000</td>\n",
              "      <td>0</td>\n",
              "      <td>True</td>\n",
              "      <td>0</td>\n",
              "      <td>28700000</td>\n",
              "      <td>21525000</td>\n",
              "    </tr>\n",
              "    <tr>\n",
              "      <th>3</th>\n",
              "      <td>1000044001</td>\n",
              "      <td>BIG BUCKS PAWN &amp; JEWELRY, LLC</td>\n",
              "      <td>BROKEN ARROW</td>\n",
              "      <td>OK</td>\n",
              "      <td>74012</td>\n",
              "      <td>1ST NATL BK &amp; TR CO OF BROKEN</td>\n",
              "      <td>OK</td>\n",
              "      <td>0</td>\n",
              "      <td>1997-02-28</td>\n",
              "      <td>1997</td>\n",
              "      <td>60</td>\n",
              "      <td>2</td>\n",
              "      <td>False</td>\n",
              "      <td>0</td>\n",
              "      <td>0</td>\n",
              "      <td>1</td>\n",
              "      <td>-1</td>\n",
              "      <td>0</td>\n",
              "      <td>True</td>\n",
              "      <td>NaT</td>\n",
              "      <td>1997-06-30</td>\n",
              "      <td>3500000</td>\n",
              "      <td>0</td>\n",
              "      <td>True</td>\n",
              "      <td>0</td>\n",
              "      <td>3500000</td>\n",
              "      <td>2800000</td>\n",
              "    </tr>\n",
              "    <tr>\n",
              "      <th>4</th>\n",
              "      <td>1000054004</td>\n",
              "      <td>ANASTASIA CONFECTIONS, INC.</td>\n",
              "      <td>ORLANDO</td>\n",
              "      <td>FL</td>\n",
              "      <td>32801</td>\n",
              "      <td>FLORIDA BUS. DEVEL CORP</td>\n",
              "      <td>FL</td>\n",
              "      <td>0</td>\n",
              "      <td>1997-02-28</td>\n",
              "      <td>1997</td>\n",
              "      <td>240</td>\n",
              "      <td>14</td>\n",
              "      <td>False</td>\n",
              "      <td>7</td>\n",
              "      <td>7</td>\n",
              "      <td>1</td>\n",
              "      <td>-1</td>\n",
              "      <td>0</td>\n",
              "      <td>False</td>\n",
              "      <td>NaT</td>\n",
              "      <td>1997-05-14</td>\n",
              "      <td>22900000</td>\n",
              "      <td>0</td>\n",
              "      <td>True</td>\n",
              "      <td>0</td>\n",
              "      <td>22900000</td>\n",
              "      <td>22900000</td>\n",
              "    </tr>\n",
              "  </tbody>\n",
              "</table>\n",
              "</div>\n",
              "      <button class=\"colab-df-convert\" onclick=\"convertToInteractive('df-5a0a2a3e-dd03-4ea0-a0d9-3fee50a9f263')\"\n",
              "              title=\"Convert this dataframe to an interactive table.\"\n",
              "              style=\"display:none;\">\n",
              "        \n",
              "  <svg xmlns=\"http://www.w3.org/2000/svg\" height=\"24px\"viewBox=\"0 0 24 24\"\n",
              "       width=\"24px\">\n",
              "    <path d=\"M0 0h24v24H0V0z\" fill=\"none\"/>\n",
              "    <path d=\"M18.56 5.44l.94 2.06.94-2.06 2.06-.94-2.06-.94-.94-2.06-.94 2.06-2.06.94zm-11 1L8.5 8.5l.94-2.06 2.06-.94-2.06-.94L8.5 2.5l-.94 2.06-2.06.94zm10 10l.94 2.06.94-2.06 2.06-.94-2.06-.94-.94-2.06-.94 2.06-2.06.94z\"/><path d=\"M17.41 7.96l-1.37-1.37c-.4-.4-.92-.59-1.43-.59-.52 0-1.04.2-1.43.59L10.3 9.45l-7.72 7.72c-.78.78-.78 2.05 0 2.83L4 21.41c.39.39.9.59 1.41.59.51 0 1.02-.2 1.41-.59l7.78-7.78 2.81-2.81c.8-.78.8-2.07 0-2.86zM5.41 20L4 18.59l7.72-7.72 1.47 1.35L5.41 20z\"/>\n",
              "  </svg>\n",
              "      </button>\n",
              "      \n",
              "  <style>\n",
              "    .colab-df-container {\n",
              "      display:flex;\n",
              "      flex-wrap:wrap;\n",
              "      gap: 12px;\n",
              "    }\n",
              "\n",
              "    .colab-df-convert {\n",
              "      background-color: #E8F0FE;\n",
              "      border: none;\n",
              "      border-radius: 50%;\n",
              "      cursor: pointer;\n",
              "      display: none;\n",
              "      fill: #1967D2;\n",
              "      height: 32px;\n",
              "      padding: 0 0 0 0;\n",
              "      width: 32px;\n",
              "    }\n",
              "\n",
              "    .colab-df-convert:hover {\n",
              "      background-color: #E2EBFA;\n",
              "      box-shadow: 0px 1px 2px rgba(60, 64, 67, 0.3), 0px 1px 3px 1px rgba(60, 64, 67, 0.15);\n",
              "      fill: #174EA6;\n",
              "    }\n",
              "\n",
              "    [theme=dark] .colab-df-convert {\n",
              "      background-color: #3B4455;\n",
              "      fill: #D2E3FC;\n",
              "    }\n",
              "\n",
              "    [theme=dark] .colab-df-convert:hover {\n",
              "      background-color: #434B5C;\n",
              "      box-shadow: 0px 1px 3px 1px rgba(0, 0, 0, 0.15);\n",
              "      filter: drop-shadow(0px 1px 2px rgba(0, 0, 0, 0.3));\n",
              "      fill: #FFFFFF;\n",
              "    }\n",
              "  </style>\n",
              "\n",
              "      <script>\n",
              "        const buttonEl =\n",
              "          document.querySelector('#df-5a0a2a3e-dd03-4ea0-a0d9-3fee50a9f263 button.colab-df-convert');\n",
              "        buttonEl.style.display =\n",
              "          google.colab.kernel.accessAllowed ? 'block' : 'none';\n",
              "\n",
              "        async function convertToInteractive(key) {\n",
              "          const element = document.querySelector('#df-5a0a2a3e-dd03-4ea0-a0d9-3fee50a9f263');\n",
              "          const dataTable =\n",
              "            await google.colab.kernel.invokeFunction('convertToInteractive',\n",
              "                                                     [key], {});\n",
              "          if (!dataTable) return;\n",
              "\n",
              "          const docLinkHtml = 'Like what you see? Visit the ' +\n",
              "            '<a target=\"_blank\" href=https://colab.research.google.com/notebooks/data_table.ipynb>data table notebook</a>'\n",
              "            + ' to learn more about interactive tables.';\n",
              "          element.innerHTML = '';\n",
              "          dataTable['output_type'] = 'display_data';\n",
              "          await google.colab.output.renderOutput(dataTable, element);\n",
              "          const docLink = document.createElement('div');\n",
              "          docLink.innerHTML = docLinkHtml;\n",
              "          element.appendChild(docLink);\n",
              "        }\n",
              "      </script>\n",
              "    </div>\n",
              "  </div>\n",
              "  "
            ],
            "text/plain": [
              "      loan_id                           name  ... amt_gr_appv   amt_sba\n",
              "0  1000014003                 ABC HOBBYCRAFT  ...     6000000   4800000\n",
              "1  1000024006    LANDMARK BAR & GRILLE (THE)  ...     4000000   3200000\n",
              "2  1000034009          WHITLOCK DDS, TODD M.  ...    28700000  21525000\n",
              "3  1000044001  BIG BUCKS PAWN & JEWELRY, LLC  ...     3500000   2800000\n",
              "4  1000054004    ANASTASIA CONFECTIONS, INC.  ...    22900000  22900000\n",
              "\n",
              "[5 rows x 27 columns]"
            ]
          },
          "metadata": {},
          "execution_count": 14
        }
      ]
    },
    {
      "cell_type": "code",
      "source": [
        "df.info()"
      ],
      "metadata": {
        "id": "Qb4t5cWgeMhd",
        "colab": {
          "base_uri": "https://localhost:8080/"
        },
        "outputId": "7e1decf6-d6d9-4527-cc9a-be914c0ed19e"
      },
      "execution_count": null,
      "outputs": [
        {
          "output_type": "stream",
          "name": "stdout",
          "text": [
            "<class 'pandas.core.frame.DataFrame'>\n",
            "RangeIndex: 882067 entries, 0 to 882066\n",
            "Data columns (total 27 columns):\n",
            " #   Column       Non-Null Count   Dtype         \n",
            "---  ------       --------------   -----         \n",
            " 0   loan_id      882067 non-null  int64         \n",
            " 1   name         882067 non-null  object        \n",
            " 2   city         882067 non-null  object        \n",
            " 3   state        882067 non-null  object        \n",
            " 4   zip          882067 non-null  int64         \n",
            " 5   bank         882067 non-null  object        \n",
            " 6   bank_state   882067 non-null  object        \n",
            " 7   naics        882067 non-null  int64         \n",
            " 8   date_appv    882067 non-null  datetime64[ns]\n",
            " 9   appv_fy      882067 non-null  int64         \n",
            " 10  term         882067 non-null  int64         \n",
            " 11  num_emp      882067 non-null  int64         \n",
            " 12  is_new       882067 non-null  bool          \n",
            " 13  num_jobs     882067 non-null  int64         \n",
            " 14  num_retain   882067 non-null  int64         \n",
            " 15  franch       882067 non-null  int64         \n",
            " 16  urban_type   882067 non-null  int64         \n",
            " 17  is_revl      882067 non-null  int64         \n",
            " 18  is_ldoc      882067 non-null  bool          \n",
            " 19  date_dflt    160222 non-null  datetime64[ns]\n",
            " 20  date_disb    882067 non-null  datetime64[ns]\n",
            " 21  amt_disb     882067 non-null  int64         \n",
            " 22  amt_outst    882067 non-null  int64         \n",
            " 23  mis          882067 non-null  bool          \n",
            " 24  amt_chg_off  882067 non-null  int64         \n",
            " 25  amt_gr_appv  882067 non-null  int64         \n",
            " 26  amt_sba      882067 non-null  int64         \n",
            "dtypes: bool(3), datetime64[ns](3), int64(16), object(5)\n",
            "memory usage: 164.0+ MB\n"
          ]
        }
      ]
    },
    {
      "cell_type": "markdown",
      "source": [
        "# Exporting Dataframe (left commented for safety)"
      ],
      "metadata": {
        "id": "-a-mWX5t6oRE"
      }
    },
    {
      "cell_type": "code",
      "source": [
        "# df.to_csv(\"sba_national_cleaned.csv\")\n",
        "# !cp \"sba_national_cleaned.csv\" \"/content/drive/Shareddrives/Loan_ Project2/Data/\""
      ],
      "metadata": {
        "id": "dHtqxM1-gxv1"
      },
      "execution_count": null,
      "outputs": []
    },
    {
      "cell_type": "code",
      "source": [
        ""
      ],
      "metadata": {
        "id": "C9rxZCOs78Fp"
      },
      "execution_count": null,
      "outputs": []
    }
  ]
}